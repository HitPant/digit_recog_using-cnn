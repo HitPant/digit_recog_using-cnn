{
 "cells": [
  {
   "cell_type": "code",
   "execution_count": 28,
   "metadata": {},
   "outputs": [],
   "source": [
    "import numpy as np\n",
    "import cv2\n",
    "import os\n",
    "from sklearn.model_selection import train_test_split\n",
    "import matplotlib.pyplot as plt\n",
    "from keras.preprocessing.image import ImageDataGenerator\n",
    "from keras.utils.np_utils import to_categorical\n",
    "from keras.models import Sequential\n",
    "from keras.layers import Dense\n",
    "from keras.optimizers import Adam\n",
    "from keras.layers import Dropout,Flatten\n",
    "from keras.layers.convolutional import Conv2D,MaxPooling2D\n",
    "from keras.models import load_model\n",
    "from keras.models import model_from_yaml\n",
    "import pickle"
   ]
  },
  {
   "cell_type": "code",
   "execution_count": 29,
   "metadata": {},
   "outputs": [
    {
     "name": "stdout",
     "output_type": "stream",
     "text": [
      "Total classes detected:  10\n"
     ]
    }
   ],
   "source": [
    "path= \"dataset\"\n",
    "mylist= os.listdir(path)\n",
    "print(\"Total classes detected: \",len(mylist))\n",
    "no_classes= len(mylist)"
   ]
  },
  {
   "cell_type": "code",
   "execution_count": 30,
   "metadata": {},
   "outputs": [
    {
     "name": "stdout",
     "output_type": "stream",
     "text": [
      "importing the classes........\n",
      "0 , 1 , 2 , 3 , 4 , 5 , 6 , 7 , 8 , 9 , "
     ]
    }
   ],
   "source": [
    "count= 0\n",
    "images= []\n",
    "class_number= []\n",
    "\n",
    "print(\"importing the classes........\")\n",
    "for x in range(0, no_classes):\n",
    "    myPicklist= os.listdir(path + \"/\"+str(x))\n",
    "    for y in myPicklist:\n",
    "        size_image= cv2.imread(path+\"/\"+str(x)+\"/\"+y)\n",
    "        size_image= cv2.resize(size_image,(32,32))\n",
    "        images.append(size_image)\n",
    "        class_number.append(x)\n",
    "    print(x, end= \" , \")"
   ]
  },
  {
   "cell_type": "code",
   "execution_count": 31,
   "metadata": {},
   "outputs": [
    {
     "name": "stdout",
     "output_type": "stream",
     "text": [
      "(10160, 32, 32, 3)\n",
      "(10160,)\n"
     ]
    }
   ],
   "source": [
    "images= np.array(images)\n",
    "class_number= np.array(class_number)\n",
    "\n",
    "print(images.shape)\n",
    "print(class_number.shape)"
   ]
  },
  {
   "cell_type": "code",
   "execution_count": 32,
   "metadata": {},
   "outputs": [
    {
     "name": "stdout",
     "output_type": "stream",
     "text": [
      "(6502, 32, 32, 3)\n",
      "(2032, 32, 32, 3)\n",
      "(1626, 32, 32, 3)\n"
     ]
    }
   ],
   "source": [
    "#splitting the data\n",
    "x_train, x_test, y_train, y_test = train_test_split(images, class_number, test_size= 0.2)\n",
    "x_train, x_validation, y_train, y_validation = train_test_split(x_train, y_train, test_size= 0.2)\n",
    "\n",
    "print(x_train.shape)\n",
    "print(x_test.shape)\n",
    "print(x_validation.shape)"
   ]
  },
  {
   "cell_type": "code",
   "execution_count": 33,
   "metadata": {},
   "outputs": [
    {
     "name": "stdout",
     "output_type": "stream",
     "text": [
      "[643, 648, 638, 648, 629, 666, 660, 677, 632, 661]\n"
     ]
    },
    {
     "data": {
      "image/png": "[encoded data removed]",
      "text/plain": [
       "<Figure size 720x360 with 1 Axes>"
      ]
     },
     "metadata": {
      "needs_background": "light"
     },
     "output_type": "display_data"
    }
   ],
   "source": [
    "no_samples= []\n",
    "\n",
    "for x in range(0, no_classes):\n",
    "    no_samples.append(len(np.where(y_train==x)[0]))\n",
    "print(no_samples)\n",
    "\n",
    "plt.figure(figsize= (10,5))\n",
    "plt.bar(range(0,no_classes), no_samples)\n",
    "plt.title(\"No of Images for each class\")\n",
    "plt.xlabel(\"class_id\")\n",
    "plt.ylabel(\"number of images\")\n",
    "plt.show()"
   ]
  },
  {
   "cell_type": "code",
   "execution_count": 34,
   "metadata": {},
   "outputs": [],
   "source": [
    "def preProcessing(img):\n",
    "    img = cv2.cvtColor(img,cv2.COLOR_BGR2GRAY)\n",
    "    img = cv2.equalizeHist(img)\n",
    "    img = img/255\n",
    "    return img\n",
    "\n",
    "# img= preProcessing(x_train[30])\n",
    "# img= cv2.resize(img, (200,200))\n",
    "# cv2.imshow(\"Preprocessed\", img)"
   ]
  },
  {
   "cell_type": "code",
   "execution_count": 35,
   "metadata": {},
   "outputs": [],
   "source": [
    "x_train= np.array(list(map(preProcessing,x_train)))\n",
    "x_test= np.array(list(map(preProcessing,x_test)))\n",
    "x_validation= np.array(list(map(preProcessing,x_validation)))\n",
    " \n",
    "\n",
    "x_train = x_train.reshape(x_train.shape[0],x_train.shape[1],x_train.shape[2],1)\n",
    "x_test = x_test.reshape(x_test.shape[0],x_test.shape[1],x_test.shape[2],1)\n",
    "x_validation = x_validation.reshape(x_validation.shape[0],x_validation.shape[1],x_validation.shape[2],1)\n",
    " \n",
    "#### IMAGE AUGMENTATION \n",
    "dataGen = ImageDataGenerator(width_shift_range=0.1,\n",
    "                             height_shift_range=0.1,\n",
    "                             zoom_range=0.2,\n",
    "                             shear_range=0.1,\n",
    "                             rotation_range=10)\n",
    "dataGen.fit(x_train)"
   ]
  },
  {
   "cell_type": "code",
   "execution_count": 36,
   "metadata": {},
   "outputs": [],
   "source": [
    "y_train= to_categorical(y_train, no_classes)\n",
    "y_test= to_categorical(y_test, no_classes)\n",
    "y_validation= to_categorical(y_validation, no_classes)"
   ]
  },
  {
   "cell_type": "code",
   "execution_count": 37,
   "metadata": {},
   "outputs": [
    {
     "name": "stdout",
     "output_type": "stream",
     "text": [
      "Model: \"sequential_2\"\n",
      "_________________________________________________________________\n",
      "Layer (type)                 Output Shape              Param #   \n",
      "=================================================================\n",
      "conv2d_8 (Conv2D)            (None, 28, 28, 60)        1560      \n",
      "_________________________________________________________________\n",
      "conv2d_9 (Conv2D)            (None, 24, 24, 60)        90060     \n",
      "_________________________________________________________________\n",
      "max_pooling2d_4 (MaxPooling2 (None, 12, 12, 60)        0         \n",
      "_________________________________________________________________\n",
      "conv2d_10 (Conv2D)           (None, 10, 10, 30)        16230     \n",
      "_________________________________________________________________\n",
      "conv2d_11 (Conv2D)           (None, 8, 8, 30)          8130      \n",
      "_________________________________________________________________\n",
      "max_pooling2d_5 (MaxPooling2 (None, 4, 4, 30)          0         \n",
      "_________________________________________________________________\n",
      "dropout_4 (Dropout)          (None, 4, 4, 30)          0         \n",
      "_________________________________________________________________\n",
      "flatten_2 (Flatten)          (None, 480)               0         \n",
      "_________________________________________________________________\n",
      "dense_4 (Dense)              (None, 500)               240500    \n",
      "_________________________________________________________________\n",
      "dropout_5 (Dropout)          (None, 500)               0         \n",
      "_________________________________________________________________\n",
      "dense_5 (Dense)              (None, 10)                5010      \n",
      "=================================================================\n",
      "Total params: 361,490\n",
      "Trainable params: 361,490\n",
      "Non-trainable params: 0\n",
      "_________________________________________________________________\n",
      "None\n"
     ]
    }
   ],
   "source": [
    "imageDimensions= (32,32,3)\n",
    "\n",
    "#### CREATING THE MODEL \n",
    "def myModel():\n",
    "    noOfFilters = 60\n",
    "    sizeOfFilter1 = (5,5)\n",
    "    sizeOfFilter2 = (3, 3)\n",
    "    sizeOfPool = (2,2)\n",
    "    noOfNodes= 500\n",
    " \n",
    "    model = Sequential()\n",
    "    model.add((Conv2D(noOfFilters,sizeOfFilter1,input_shape=(imageDimensions[0],\n",
    "                      imageDimensions[1],1),activation='relu')))\n",
    "    model.add((Conv2D(noOfFilters, sizeOfFilter1, activation='relu')))\n",
    "    model.add(MaxPooling2D(pool_size=sizeOfPool))\n",
    "    model.add((Conv2D(noOfFilters//2, sizeOfFilter2, activation='relu')))\n",
    "    model.add((Conv2D(noOfFilters//2, sizeOfFilter2, activation='relu')))\n",
    "    model.add(MaxPooling2D(pool_size=sizeOfPool))\n",
    "    model.add(Dropout(0.5))\n",
    " \n",
    "    model.add(Flatten())\n",
    "    model.add(Dense(noOfNodes,activation='relu'))\n",
    "    model.add(Dropout(0.5))\n",
    "    model.add(Dense(no_classes, activation='softmax'))\n",
    " \n",
    "    model.compile(Adam(lr=0.001),loss='categorical_crossentropy',metrics=['accuracy'])\n",
    "    return model\n",
    " \n",
    "model = myModel()\n",
    "print(model.summary())"
   ]
  },
  {
   "cell_type": "code",
   "execution_count": 38,
   "metadata": {},
   "outputs": [
    {
     "name": "stdout",
     "output_type": "stream",
     "text": [
      "Epoch 1/12\n",
      "100/100 [==============================] - 11s 110ms/step - loss: 2.0369 - accuracy: 0.2394 - val_loss: 0.8469 - val_accuracy: 0.7768\n",
      "Epoch 2/12\n",
      "100/100 [==============================] - 11s 108ms/step - loss: 0.9637 - accuracy: 0.6794 - val_loss: 0.1994 - val_accuracy: 0.9360\n",
      "Epoch 3/12\n",
      "100/100 [==============================] - 11s 108ms/step - loss: 0.6013 - accuracy: 0.8050 - val_loss: 0.1741 - val_accuracy: 0.9379\n",
      "Epoch 4/12\n",
      "100/100 [==============================] - 11s 108ms/step - loss: 0.4824 - accuracy: 0.8456 - val_loss: 0.1129 - val_accuracy: 0.9649\n",
      "Epoch 5/12\n",
      "100/100 [==============================] - 11s 108ms/step - loss: 0.3738 - accuracy: 0.8811 - val_loss: 0.1373 - val_accuracy: 0.9588\n",
      "Epoch 6/12\n",
      "100/100 [==============================] - 11s 108ms/step - loss: 0.3436 - accuracy: 0.8956 - val_loss: 0.0916 - val_accuracy: 0.9692\n",
      "Epoch 7/12\n",
      "100/100 [==============================] - 11s 110ms/step - loss: 0.3137 - accuracy: 0.9056 - val_loss: 0.0933 - val_accuracy: 0.9649\n",
      "Epoch 8/12\n",
      "100/100 [==============================] - 11s 109ms/step - loss: 0.2617 - accuracy: 0.9069 - val_loss: 0.0642 - val_accuracy: 0.9779\n",
      "Epoch 9/12\n",
      "100/100 [==============================] - 11s 109ms/step - loss: 0.2612 - accuracy: 0.9281 - val_loss: 0.0456 - val_accuracy: 0.9834\n",
      "Epoch 10/12\n",
      "100/100 [==============================] - 11s 114ms/step - loss: 0.2106 - accuracy: 0.9356 - val_loss: 0.0516 - val_accuracy: 0.9822\n",
      "Epoch 11/12\n",
      "100/100 [==============================] - 14s 138ms/step - loss: 0.2234 - accuracy: 0.9269 - val_loss: 0.0500 - val_accuracy: 0.9852\n",
      "Epoch 12/12\n",
      "100/100 [==============================] - 15s 147ms/step - loss: 0.1934 - accuracy: 0.9403 - val_loss: 0.0596 - val_accuracy: 0.9809\n"
     ]
    },
    {
     "data": {
      "image/png": "[encoded data removed]",
      "text/plain": [
       "<Figure size 432x288 with 1 Axes>"
      ]
     },
     "metadata": {
      "needs_background": "light"
     },
     "output_type": "display_data"
    },
    {
     "data": {
      "image/png": "[encoded data removed]",
      "text/plain": [
       "<Figure size 432x288 with 1 Axes>"
      ]
     },
     "metadata": {
      "needs_background": "light"
     },
     "output_type": "display_data"
    },
    {
     "name": "stdout",
     "output_type": "stream",
     "text": [
      "Test Score =  0.073676697909832\n",
      "Test Accuracy = 0.9709645509719849\n"
     ]
    }
   ],
   "source": [
    "batchSizeVal= 16\n",
    "stepsPerEpochVal = 100\n",
    "epochsVal = 12\n",
    "\n",
    "#### STARTING THE TRAINING PROCESS\n",
    "history = model.fit_generator(dataGen.flow(x_train,y_train,\n",
    "                                 batch_size=batchSizeVal),\n",
    "                                 steps_per_epoch=stepsPerEpochVal,\n",
    "                                 epochs=epochsVal,\n",
    "                                 validation_data=(x_validation,y_validation),\n",
    "                                 shuffle=1)\n",
    " \n",
    "#### PLOT THE RESULTS  \n",
    "plt.figure(1)\n",
    "plt.plot(history.history['loss'])\n",
    "plt.plot(history.history['val_loss'])\n",
    "plt.legend(['training','validation'])\n",
    "plt.title('Loss')\n",
    "plt.xlabel('epoch')\n",
    "plt.figure(2)\n",
    "plt.plot(history.history['accuracy'])\n",
    "plt.plot(history.history['val_accuracy'])\n",
    "plt.legend(['training','validation'])\n",
    "plt.title('Accuracy')\n",
    "plt.xlabel('epoch')\n",
    "plt.show()\n",
    "\n",
    "#### EVALUATE USING TEST IMAGES\n",
    "score = model.evaluate(x_test,y_test,verbose=0)\n",
    "print('Test Score = ',score[0])\n",
    "print('Test Accuracy =', score[1])\n"
   ]
  },
  {
   "cell_type": "code",
   "execution_count": 39,
   "metadata": {},
   "outputs": [
    {
     "name": "stdout",
     "output_type": "stream",
     "text": [
      "Saved model to disk\n"
     ]
    }
   ],
   "source": [
    "# serialize model to YAML\n",
    "model_yaml = model.to_yaml()\n",
    "with open(\"model.yaml\", \"w\") as yaml_file:\n",
    "    yaml_file.write(model_yaml)\n",
    "# serialize weights to HDF5\n",
    "model.save_weights(\"model.h5\")\n",
    "print(\"Saved model to disk\")"
   ]
  },
  {
   "cell_type": "code",
   "execution_count": null,
   "metadata": {},
   "outputs": [],
   "source": []
  }
 ],
 "metadata": {
  "kernelspec": {
   "display_name": "Python 3",
   "language": "python",
   "name": "python3"
  },
  "language_info": {
   "codemirror_mode": {
    "name": "ipython",
    "version": 3
   },
   "file_extension": ".py",
   "mimetype": "text/x-python",
   "name": "python",
   "nbconvert_exporter": "python",
   "pygments_lexer": "ipython3",
   "version": "3.8.2"
  }
 },
 "nbformat": 4,
 "nbformat_minor": 4
}
